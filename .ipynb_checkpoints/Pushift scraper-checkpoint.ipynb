{
 "cells": [
  {
   "cell_type": "code",
   "execution_count": 25,
   "metadata": {},
   "outputs": [],
   "source": [
    "import requests\n",
    "import pandas as pd\n",
    "import json\n",
    "from psaw import PushshiftAPI\n",
    "from nltk import ngrams\n",
    "api = PushshiftAPI()\n",
    "from timeit import default_timer as timer"
   ]
  },
  {
   "cell_type": "code",
   "execution_count": 26,
   "metadata": {},
   "outputs": [],
   "source": [
    "# function that gets comments dataframe for a post\n",
    "def get_post(**kwargs):\n",
    "    base_url = f\"https://api.pushshift.io/reddit/search/submission/\"\n",
    "    payload = kwargs\n",
    "    request = requests.get(base_url, params=payload)\n",
    "    data = request.json().get(\"data\")\n",
    "    l = list(pd.DataFrame.from_records(data).id)\n",
    "    return l\n",
    "\n",
    "# function that grabs a post from a subreddit\n",
    "def get_pushshift_data(data_type, **kwargs):\n",
    "\n",
    " \n",
    "    base_url = f\"https://api.pushshift.io/reddit/search/{data_type}/\"\n",
    "    payload = kwargs\n",
    "    request = requests.get(base_url, params=payload)\n",
    "    data = request.json().get(\"data\")\n",
    "    df = pd.DataFrame.from_records(data)[['author','subreddit','body','created_utc']]\n",
    "    return df\n",
    "\n",
    "#  function that counts the number of n-grams in a column of a reddit dataframe\n",
    "def count_grams(df, i):\n",
    "    df_body = df['body']\n",
    "    \n",
    "    grams_dict = {}\n",
    "    for s in df_body:\n",
    "        grams = ngrams(s.split(),i)\n",
    "\n",
    "        for gram in grams:\n",
    "            gram2 = ' '.join(gram)\n",
    "            if gram2 in grams_dict:\n",
    "                grams_dict[gram2] += 1\n",
    "            else:\n",
    "                grams_dict[gram2] = 1\n",
    "\n",
    "    final_df = pd.DataFrame([grams_dict]).T\n",
    "\n",
    "    return final_df\n",
    "\n",
    "# collects gram counts from multiple subreddits\n",
    "def collect_grams(subs,i):\n",
    "    final_df = pd.DataFrame()\n",
    "    error_list = []\n",
    "    for s in subs:\n",
    "        try:\n",
    "            posts = get_post(subreddits= s, size = 50, after=\"30d\")\n",
    "            for p in posts:\n",
    "                try:\n",
    "                    df1 = get_pushshift_data(data_type='comment',id = p, after=\"30d\", size = 50)\n",
    "                    count_df = count_grams(df1,i)\n",
    "                    count_df[str(i)+'-gram'] = count_df.index\n",
    "                    count_df['subreddit'] = s\n",
    "                    count_df = count_df.rename(columns={0:'count'})\n",
    "                    final_df = pd.concat([count_df, final_df], ignore_index=True)\n",
    "                except:\n",
    "                    print(p)\n",
    "                print(\"posts remaining:\" + str(len(posts) - posts.index(p) - 1))\n",
    "        except:\n",
    "            print(s)\n",
    "        print(\"Subs remaining:\" + str(len(subs) - subs.index(s) - 1))\n",
    "        \n",
    "    \n",
    "    return final_df"
   ]
  },
  {
   "cell_type": "code",
   "execution_count": 27,
   "metadata": {},
   "outputs": [],
   "source": [
    "subs_df = pd.read_csv('list_of_subreddits.csv')\n",
    "subs_list = [s[3:] for s in subs_df['Subreddits']]\n",
    "\n",
    "subs_list\n",
    "subs_3 = subs_list[:3]\n",
    "subs_10 = subs_list[:10]\n",
    "subs_50 = subs_list[:50]\n",
    "subs_100 = subs_list[:100]"
   ]
  },
  {
   "cell_type": "code",
   "execution_count": null,
   "metadata": {
    "scrolled": true
   },
   "outputs": [],
   "source": [
    "start = timer()\n",
    "gram_count_1 = collect_grams(subs_3,1)\n",
    "elapsed_time = timer() - start\n",
    "print(elapsed_time)\n",
    "gram_count_1.to_csv(\"gram_count_test_s3.csv\")"
   ]
  },
  {
   "cell_type": "code",
   "execution_count": null,
   "metadata": {
    "scrolled": false
   },
   "outputs": [],
   "source": [
    "fuck_yeah.sort_values(by = \"count\", ascending=False)"
   ]
  },
  {
   "cell_type": "code",
   "execution_count": null,
   "metadata": {},
   "outputs": [],
   "source": []
  },
  {
   "cell_type": "code",
   "execution_count": null,
   "metadata": {},
   "outputs": [],
   "source": []
  },
  {
   "cell_type": "code",
   "execution_count": null,
   "metadata": {},
   "outputs": [],
   "source": []
  },
  {
   "cell_type": "code",
   "execution_count": null,
   "metadata": {},
   "outputs": [],
   "source": []
  },
  {
   "cell_type": "code",
   "execution_count": null,
   "metadata": {},
   "outputs": [],
   "source": []
  },
  {
   "cell_type": "code",
   "execution_count": null,
   "metadata": {},
   "outputs": [],
   "source": []
  },
  {
   "cell_type": "code",
   "execution_count": null,
   "metadata": {},
   "outputs": [],
   "source": []
  },
  {
   "cell_type": "code",
   "execution_count": null,
   "metadata": {},
   "outputs": [],
   "source": []
  },
  {
   "cell_type": "code",
   "execution_count": null,
   "metadata": {},
   "outputs": [],
   "source": []
  },
  {
   "cell_type": "code",
   "execution_count": null,
   "metadata": {},
   "outputs": [],
   "source": []
  },
  {
   "cell_type": "code",
   "execution_count": null,
   "metadata": {},
   "outputs": [],
   "source": []
  },
  {
   "cell_type": "code",
   "execution_count": null,
   "metadata": {},
   "outputs": [],
   "source": []
  },
  {
   "cell_type": "code",
   "execution_count": null,
   "metadata": {},
   "outputs": [],
   "source": []
  },
  {
   "cell_type": "code",
   "execution_count": null,
   "metadata": {},
   "outputs": [],
   "source": []
  },
  {
   "cell_type": "code",
   "execution_count": null,
   "metadata": {},
   "outputs": [],
   "source": []
  }
 ],
 "metadata": {
  "kernelspec": {
   "display_name": "Python 3",
   "language": "python",
   "name": "python3"
  },
  "language_info": {
   "codemirror_mode": {
    "name": "ipython",
    "version": 3
   },
   "file_extension": ".py",
   "mimetype": "text/x-python",
   "name": "python",
   "nbconvert_exporter": "python",
   "pygments_lexer": "ipython3",
   "version": "3.7.3"
  }
 },
 "nbformat": 4,
 "nbformat_minor": 2
}
